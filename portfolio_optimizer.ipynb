{
 "cells": [
  {
   "cell_type": "markdown",
   "id": "8d2969f3",
   "metadata": {},
   "source": [
    "## Accessing the Stock Price Data"
   ]
  },
  {
   "cell_type": "code",
   "execution_count": 1,
   "id": "d25321db",
   "metadata": {
    "collapsed": true
   },
   "outputs": [
    {
     "name": "stdout",
     "output_type": "stream",
     "text": [
      "Collecting pandas-datareader\n",
      "  Downloading pandas_datareader-0.10.0-py3-none-any.whl (109 kB)\n",
      "Requirement already satisfied: requests>=2.19.0 in c:\\users\\vishal\\anaconda3\\lib\\site-packages (from pandas-datareader) (2.26.0)\n",
      "Requirement already satisfied: lxml in c:\\users\\vishal\\anaconda3\\lib\\site-packages (from pandas-datareader) (4.7.1)\n",
      "Requirement already satisfied: pandas>=0.23 in c:\\users\\vishal\\anaconda3\\lib\\site-packages (from pandas-datareader) (1.3.5)\n",
      "Requirement already satisfied: python-dateutil>=2.7.3 in c:\\users\\vishal\\anaconda3\\lib\\site-packages (from pandas>=0.23->pandas-datareader) (2.8.2)\n",
      "Requirement already satisfied: pytz>=2017.3 in c:\\users\\vishal\\anaconda3\\lib\\site-packages (from pandas>=0.23->pandas-datareader) (2021.3)\n",
      "Requirement already satisfied: numpy>=1.17.3 in c:\\users\\vishal\\anaconda3\\lib\\site-packages (from pandas>=0.23->pandas-datareader) (1.19.2)\n",
      "Requirement already satisfied: six>=1.5 in c:\\users\\vishal\\anaconda3\\lib\\site-packages (from python-dateutil>=2.7.3->pandas>=0.23->pandas-datareader) (1.16.0)\n",
      "Requirement already satisfied: idna<4,>=2.5 in c:\\users\\vishal\\anaconda3\\lib\\site-packages (from requests>=2.19.0->pandas-datareader) (3.3)\n",
      "Requirement already satisfied: certifi>=2017.4.17 in c:\\users\\vishal\\anaconda3\\lib\\site-packages (from requests>=2.19.0->pandas-datareader) (2022.12.7)\n",
      "Requirement already satisfied: charset-normalizer~=2.0.0 in c:\\users\\vishal\\anaconda3\\lib\\site-packages (from requests>=2.19.0->pandas-datareader) (2.0.4)\n",
      "Requirement already satisfied: urllib3<1.27,>=1.21.1 in c:\\users\\vishal\\anaconda3\\lib\\site-packages (from requests>=2.19.0->pandas-datareader) (1.26.7)\n",
      "Installing collected packages: pandas-datareader\n",
      "Successfully installed pandas-datareader-0.10.0\n"
     ]
    }
   ],
   "source": [
    "!pip install pandas-datareader"
   ]
  },
  {
   "cell_type": "code",
   "execution_count": 34,
   "id": "76399e5b",
   "metadata": {
    "collapsed": true
   },
   "outputs": [
    {
     "name": "stdout",
     "output_type": "stream",
     "text": [
      "Collecting yfinance\n",
      "  Downloading yfinance-0.2.14-py2.py3-none-any.whl (59 kB)\n",
      "Requirement already satisfied: html5lib>=1.1 in c:\\users\\vishal\\anaconda3\\lib\\site-packages (from yfinance) (1.1)\n",
      "Collecting pytz>=2022.5\n",
      "  Downloading pytz-2023.2-py2.py3-none-any.whl (502 kB)\n",
      "Requirement already satisfied: pandas>=1.3.0 in c:\\users\\vishal\\anaconda3\\lib\\site-packages (from yfinance) (1.3.5)\n",
      "Requirement already satisfied: requests>=2.26 in c:\\users\\vishal\\anaconda3\\lib\\site-packages (from yfinance) (2.26.0)\n",
      "Collecting frozendict>=2.3.4\n",
      "  Downloading frozendict-2.3.6-cp38-cp38-win_amd64.whl (34 kB)\n",
      "Collecting beautifulsoup4>=4.11.1\n",
      "  Downloading beautifulsoup4-4.12.0-py3-none-any.whl (132 kB)\n",
      "Collecting lxml>=4.9.1\n",
      "  Downloading lxml-4.9.2-cp38-cp38-win_amd64.whl (3.9 MB)\n",
      "Collecting multitasking>=0.0.7\n",
      "  Downloading multitasking-0.0.11-py3-none-any.whl (8.5 kB)\n",
      "Requirement already satisfied: numpy>=1.16.5 in c:\\users\\vishal\\anaconda3\\lib\\site-packages (from yfinance) (1.19.2)\n",
      "Requirement already satisfied: cryptography>=3.3.2 in c:\\users\\vishal\\anaconda3\\lib\\site-packages (from yfinance) (3.4.8)\n",
      "Requirement already satisfied: appdirs>=1.4.4 in c:\\users\\vishal\\anaconda3\\lib\\site-packages (from yfinance) (1.4.4)\n",
      "Requirement already satisfied: soupsieve>1.2 in c:\\users\\vishal\\anaconda3\\lib\\site-packages (from beautifulsoup4>=4.11.1->yfinance) (2.3.1)\n",
      "Requirement already satisfied: cffi>=1.12 in c:\\users\\vishal\\anaconda3\\lib\\site-packages (from cryptography>=3.3.2->yfinance) (1.15.0)\n",
      "Requirement already satisfied: pycparser in c:\\users\\vishal\\anaconda3\\lib\\site-packages (from cffi>=1.12->cryptography>=3.3.2->yfinance) (2.21)\n",
      "Requirement already satisfied: six>=1.9 in c:\\users\\vishal\\anaconda3\\lib\\site-packages (from html5lib>=1.1->yfinance) (1.16.0)\n",
      "Requirement already satisfied: webencodings in c:\\users\\vishal\\anaconda3\\lib\\site-packages (from html5lib>=1.1->yfinance) (0.5.1)\n",
      "Requirement already satisfied: python-dateutil>=2.7.3 in c:\\users\\vishal\\anaconda3\\lib\\site-packages (from pandas>=1.3.0->yfinance) (2.8.2)\n",
      "Requirement already satisfied: idna<4,>=2.5 in c:\\users\\vishal\\anaconda3\\lib\\site-packages (from requests>=2.26->yfinance) (3.3)\n",
      "Requirement already satisfied: certifi>=2017.4.17 in c:\\users\\vishal\\anaconda3\\lib\\site-packages (from requests>=2.26->yfinance) (2022.12.7)\n",
      "Requirement already satisfied: charset-normalizer~=2.0.0 in c:\\users\\vishal\\anaconda3\\lib\\site-packages (from requests>=2.26->yfinance) (2.0.4)\n",
      "Requirement already satisfied: urllib3<1.27,>=1.21.1 in c:\\users\\vishal\\anaconda3\\lib\\site-packages (from requests>=2.26->yfinance) (1.26.7)\n",
      "Installing collected packages: pytz, multitasking, lxml, frozendict, beautifulsoup4, yfinance\n",
      "  Attempting uninstall: pytz\n",
      "    Found existing installation: pytz 2021.3\n",
      "    Uninstalling pytz-2021.3:\n",
      "      Successfully uninstalled pytz-2021.3\n",
      "  Attempting uninstall: lxml\n",
      "    Found existing installation: lxml 4.7.1\n",
      "    Uninstalling lxml-4.7.1:\n",
      "      Successfully uninstalled lxml-4.7.1\n",
      "  Attempting uninstall: beautifulsoup4\n",
      "    Found existing installation: beautifulsoup4 4.10.0\n",
      "    Uninstalling beautifulsoup4-4.10.0:\n",
      "      Successfully uninstalled beautifulsoup4-4.10.0\n",
      "Successfully installed beautifulsoup4-4.12.0 frozendict-2.3.6 lxml-4.9.2 multitasking-0.0.11 pytz-2023.2 yfinance-0.2.14\n"
     ]
    },
    {
     "name": "stderr",
     "output_type": "stream",
     "text": [
      "ERROR: pip's dependency resolver does not currently take into account all the packages that are installed. This behaviour is the source of the following dependency conflicts.\n",
      "conda-repo-cli 1.0.4 requires pathlib, which is not installed.\n"
     ]
    }
   ],
   "source": [
    "!pip install yfinance"
   ]
  },
  {
   "cell_type": "code",
   "execution_count": 197,
   "id": "79720421",
   "metadata": {},
   "outputs": [],
   "source": [
    "from pandas_datareader import data as pdr\n",
    "import yfinance as yf\n",
    "import datetime\n",
    "import pandas as pd"
   ]
  },
  {
   "cell_type": "code",
   "execution_count": 198,
   "id": "9dc9a26e",
   "metadata": {},
   "outputs": [],
   "source": [
    "pd.set_option('display.max_columns', None)\n",
    "pd.set_option('display.max_rows', None)"
   ]
  },
  {
   "cell_type": "code",
   "execution_count": 199,
   "id": "8ff18429",
   "metadata": {},
   "outputs": [],
   "source": [
    "start = datetime.datetime(2019,1,1)\n",
    "end = datetime.datetime(2022,12,31)"
   ]
  },
  {
   "cell_type": "code",
   "execution_count": 200,
   "id": "0da0d771",
   "metadata": {},
   "outputs": [],
   "source": [
    "# fucntion that gets the stock data\n",
    "def get_stock(ticker):\n",
    "    yf.pdr_override()\n",
    "    data = pdr.get_data_yahoo(f\"{ticker}\",start,end)\n",
    "    data[f'{ticker}'] = data[\"Close\"]\n",
    "    data = data[[f'{ticker}']] \n",
    "    data.reset_index(inplace=True)\n",
    "    data.index = data.index.astype(int)\n",
    "    return data "
   ]
  },
  {
   "cell_type": "code",
   "execution_count": 201,
   "id": "25efb6f6",
   "metadata": {},
   "outputs": [],
   "source": [
    "# pfizer = get_stock(\"PFE\")\n",
    "# jnj = get_stock(\"JNJ\")"
   ]
  },
  {
   "cell_type": "markdown",
   "id": "3fac78ac",
   "metadata": {},
   "source": [
    "## Stocks to be pulled are:\n",
    "#### Healthcare : Moderna (MRNA), Pfizer (PFE), Johnson & Johnson (JNJ)\n",
    "#### Tech : Google (GOOGL), Facebook/META (META), Apple (AAPL)\n",
    "#### Retail : Costco (COST), Walmart (WMT), Kroger Co (KR)\n",
    "#### Finance : JPMorgan Chase & Co (JPM), Bank of America (BAC), HSBC Holding (HSBC)"
   ]
  },
  {
   "cell_type": "code",
   "execution_count": 202,
   "id": "15f560c5",
   "metadata": {},
   "outputs": [],
   "source": [
    "from functools import reduce\n",
    "\n",
    "def combine_stocks(tickers):\n",
    "    data_frames = []\n",
    "    for i in tickers:\n",
    "        data_frames.append(get_stock(i))\n",
    "    df_merged = reduce(lambda  left,right: pd.merge(left,right,on=['Date'], how='outer'), data_frames)\n",
    "    print(df_merged.head())\n",
    "    return df_merged"
   ]
  },
  {
   "cell_type": "code",
   "execution_count": 203,
   "id": "bcc7d40f",
   "metadata": {},
   "outputs": [
    {
     "name": "stdout",
     "output_type": "stream",
     "text": [
      "[*********************100%***********************]  1 of 1 completed\n",
      "[*********************100%***********************]  1 of 1 completed\n",
      "[*********************100%***********************]  1 of 1 completed\n",
      "[*********************100%***********************]  1 of 1 completed\n",
      "[*********************100%***********************]  1 of 1 completed\n",
      "[*********************100%***********************]  1 of 1 completed\n",
      "[*********************100%***********************]  1 of 1 completed\n",
      "[*********************100%***********************]  1 of 1 completed\n",
      "[*********************100%***********************]  1 of 1 completed\n",
      "[*********************100%***********************]  1 of 1 completed\n",
      "[*********************100%***********************]  1 of 1 completed\n",
      "[*********************100%***********************]  1 of 1 completed\n",
      "        Date       MRNA        PFE         JNJ      GOOGL        META  \\\n",
      "0 2019-01-02  15.330000  41.034157  127.750000  52.734001  135.679993   \n",
      "1 2019-01-03  15.500000  39.886147  125.720001  51.273499  131.740005   \n",
      "2 2019-01-04  16.959999  40.796963  127.830002  53.903500  137.949997   \n",
      "3 2019-01-07  16.270000  41.015179  127.010002  53.796001  138.050003   \n",
      "4 2019-01-08  16.950001  41.204933  129.960007  54.268501  142.529999   \n",
      "\n",
      "        AAPL        COST        WMT         KR         JPM        BAC  \\\n",
      "0  39.480000  204.759995  93.339996  27.299999   99.309998  24.959999   \n",
      "1  35.547501  200.419998  92.860001  27.350000   97.110001  24.559999   \n",
      "2  37.064999  206.240005  93.440002  27.660000  100.690002  25.580000   \n",
      "3  36.982498  207.000000  94.540001  27.920000  100.760002  25.559999   \n",
      "4  37.687500  208.550003  95.199997  28.459999  100.570000  25.510000   \n",
      "\n",
      "        HSBC  \n",
      "0  40.880001  \n",
      "1  40.430000  \n",
      "2  41.610001  \n",
      "3  41.049999  \n",
      "4  41.160000  \n"
     ]
    }
   ],
   "source": [
    "stocks = [\"MRNA\", \"PFE\", \"JNJ\", \"GOOGL\", \n",
    "          \"META\", \"AAPL\", \"COST\", \"WMT\", \"KR\", \"JPM\", \n",
    "          \"BAC\", \"HSBC\"]\n",
    "portfolio = combine_stocks(stocks)"
   ]
  },
  {
   "cell_type": "code",
   "execution_count": 204,
   "id": "d67d80a6",
   "metadata": {},
   "outputs": [],
   "source": [
    "portfolio.to_csv(\"portfolio.csv\", index=False)"
   ]
  },
  {
   "cell_type": "code",
   "execution_count": 205,
   "id": "a502ecd5",
   "metadata": {},
   "outputs": [],
   "source": [
    "portfolio = pd.read_csv(\"portfolio.csv\", parse_dates=['Date'])"
   ]
  },
  {
   "cell_type": "markdown",
   "id": "26e88c06",
   "metadata": {},
   "source": [
    "# Mean Variance Optimization"
   ]
  },
  {
   "cell_type": "code",
   "execution_count": 63,
   "id": "277ec586",
   "metadata": {
    "collapsed": true
   },
   "outputs": [
    {
     "name": "stdout",
     "output_type": "stream",
     "text": [
      "Collecting PyPortfolioOpt\n",
      "  Downloading pyportfolioopt-1.5.4-py3-none-any.whl (61 kB)\n",
      "Requirement already satisfied: scipy<2.0,>=1.3 in c:\\users\\vishal\\anaconda3\\lib\\site-packages (from PyPortfolioOpt) (1.6.2)\n",
      "Requirement already satisfied: pandas>=0.19 in c:\\users\\vishal\\anaconda3\\lib\\site-packages (from PyPortfolioOpt) (1.3.5)\n",
      "Collecting cvxpy<2.0.0,>=1.1.10\n",
      "  Downloading cvxpy-1.3.1-cp38-cp38-win_amd64.whl (889 kB)\n",
      "Collecting numpy<2.0.0,>=1.22.4\n",
      "  Downloading numpy-1.24.2-cp38-cp38-win_amd64.whl (14.9 MB)\n",
      "Collecting scs>=1.1.6\n",
      "  Downloading scs-3.2.2-cp38-cp38-win_amd64.whl (8.2 MB)\n",
      "Collecting ecos>=2\n",
      "  Downloading ecos-2.0.12-cp38-cp38-win_amd64.whl (72 kB)\n",
      "Collecting osqp>=0.4.1\n",
      "  Downloading osqp-0.6.2.post8-cp38-cp38-win_amd64.whl (292 kB)\n",
      "Collecting setuptools>65.5.1\n",
      "  Downloading setuptools-67.6.0-py3-none-any.whl (1.1 MB)\n",
      "Collecting qdldl\n",
      "  Downloading qdldl-0.1.5.post3-cp38-cp38-win_amd64.whl (82 kB)\n",
      "Requirement already satisfied: pytz>=2017.3 in c:\\users\\vishal\\anaconda3\\lib\\site-packages (from pandas>=0.19->PyPortfolioOpt) (2023.2)\n",
      "Requirement already satisfied: python-dateutil>=2.7.3 in c:\\users\\vishal\\anaconda3\\lib\\site-packages (from pandas>=0.19->PyPortfolioOpt) (2.8.2)\n",
      "Requirement already satisfied: six>=1.5 in c:\\users\\vishal\\anaconda3\\lib\\site-packages (from python-dateutil>=2.7.3->pandas>=0.19->PyPortfolioOpt) (1.16.0)\n",
      "Collecting numpy<2.0.0,>=1.22.4\n",
      "  Downloading numpy-1.22.4-cp38-cp38-win_amd64.whl (14.8 MB)\n",
      "Installing collected packages: numpy, qdldl, setuptools, scs, osqp, ecos, cvxpy, PyPortfolioOpt\n",
      "  Attempting uninstall: numpy\n",
      "    Found existing installation: numpy 1.19.2\n",
      "    Uninstalling numpy-1.19.2:\n",
      "      Successfully uninstalled numpy-1.19.2\n",
      "  Attempting uninstall: setuptools\n",
      "    Found existing installation: setuptools 58.0.4\n",
      "    Uninstalling setuptools-58.0.4:\n",
      "      Successfully uninstalled setuptools-58.0.4\n",
      "Successfully installed PyPortfolioOpt-1.5.4 cvxpy-1.3.1 ecos-2.0.12 numpy-1.22.4 osqp-0.6.2.post8 qdldl-0.1.5.post3 scs-3.2.2 setuptools-67.6.0\n"
     ]
    },
    {
     "name": "stderr",
     "output_type": "stream",
     "text": [
      "ERROR: pip's dependency resolver does not currently take into account all the packages that are installed. This behaviour is the source of the following dependency conflicts.\n",
      "spyder 5.1.5 requires pyqt5<5.13, which is not installed.\n",
      "spyder 5.1.5 requires pyqtwebengine<5.13, which is not installed.\n",
      "daal4py 2021.4.0 requires daal==2021.3.0, which is not installed.\n",
      "conda-repo-cli 1.0.4 requires pathlib, which is not installed.\n",
      "anaconda-project 0.10.2 requires ruamel-yaml, which is not installed.\n",
      "tensorflow 2.3.0 requires gast==0.3.3, but you have gast 0.4.0 which is incompatible.\n",
      "tensorflow 2.3.0 requires numpy<1.19.0,>=1.16.0, but you have numpy 1.22.4 which is incompatible.\n",
      "tensorflow 2.3.0 requires scipy==1.4.1, but you have scipy 1.6.2 which is incompatible.\n",
      "tensorflow 2.3.0 requires tensorflow-estimator<2.4.0,>=2.3.0, but you have tensorflow-estimator 2.6.0 which is incompatible.\n",
      "numba 0.54.1 requires numpy<1.21,>=1.17, but you have numpy 1.22.4 which is incompatible.\n",
      "astropy 4.3.post1 requires pyerfa>=1.7.3, but you have pyerfa 1.7.2 which is incompatible.\n"
     ]
    }
   ],
   "source": [
    "!pip install PyPortfolioOpt"
   ]
  },
  {
   "cell_type": "code",
   "execution_count": 206,
   "id": "53584fab",
   "metadata": {},
   "outputs": [],
   "source": [
    "from pypfopt.expected_returns import mean_historical_return\n",
    "from pypfopt.risk_models import CovarianceShrinkage"
   ]
  },
  {
   "cell_type": "code",
   "execution_count": 207,
   "id": "c06a2632",
   "metadata": {},
   "outputs": [],
   "source": [
    "from pypfopt import plotting"
   ]
  },
  {
   "cell_type": "code",
   "execution_count": 208,
   "id": "fdf58ca9",
   "metadata": {},
   "outputs": [],
   "source": [
    "# portfolio[['MRNA', 'PFE', 'JNJ', 'GOOGL', 'META', 'APPL', 'COST', 'WMT', 'KR', 'JPM', 'BAC', 'HSBC']] = portfolio[['MRNA', 'PFE', 'JNJ', 'GOOGL', 'META', 'AAPL', 'COST', 'WMT', 'KR', 'JPM', 'BAC', 'HSBC']].astype(float)"
   ]
  },
  {
   "cell_type": "code",
   "execution_count": 209,
   "id": "23ceb3b6",
   "metadata": {},
   "outputs": [],
   "source": [
    "mu = mean_historical_return(portfolio[['MRNA', 'PFE', 'JNJ', 'GOOGL', 'META', 'AAPL', 'COST', 'WMT', 'KR', 'JPM', 'BAC', 'HSBC']])\n",
    "S = CovarianceShrinkage(portfolio[['MRNA', 'PFE', 'JNJ', 'GOOGL', 'META', 'AAPL', 'COST', 'WMT', 'KR', 'JPM', 'BAC', 'HSBC']]).ledoit_wolf()"
   ]
  },
  {
   "cell_type": "code",
   "execution_count": 210,
   "id": "363dc8b9",
   "metadata": {},
   "outputs": [
    {
     "name": "stdout",
     "output_type": "stream",
     "text": [
      "{'MRNA': 0.25786, 'PFE': 0.0, 'JNJ': 0.0, 'GOOGL': 0.0, 'META': 0.0, 'AAPL': 0.41782, 'COST': 0.25427, 'WMT': 0.0, 'KR': 0.07006, 'JPM': 0.0, 'BAC': 0.0, 'HSBC': 0.0}\n",
      "-----------------------------------\n",
      "Expected annual return: 43.0%\n",
      "Annual volatility: 30.7%\n",
      "Sharpe Ratio: 1.34\n"
     ]
    },
    {
     "data": {
      "text/plain": [
       "(0.4302485476813618, 0.30677106892250045, 1.3373117260448144)"
      ]
     },
     "execution_count": 210,
     "metadata": {},
     "output_type": "execute_result"
    }
   ],
   "source": [
    "from pypfopt.efficient_frontier import EfficientFrontier\n",
    "\n",
    "ef = EfficientFrontier(mu,S)\n",
    "weights = ef.max_sharpe()\n",
    "\n",
    "cleaned_weights = ef.clean_weights()\n",
    "print(dict(cleaned_weights))\n",
    "print(\"-----------------------------------\")\n",
    "ef.portfolio_performance(verbose=True)"
   ]
  },
  {
   "cell_type": "code",
   "execution_count": 225,
   "id": "3bf0c5ab",
   "metadata": {},
   "outputs": [
    {
     "data": {
      "image/png": "[encoded data removed]",
      "text/plain": [
       "<Figure size 576x576 with 1 Axes>"
      ]
     },
     "metadata": {},
     "output_type": "display_data"
    }
   ],
   "source": [
    "# plotting.plot_weights(weights, title=\"Portfolio Allocation\")\n",
    "\n",
    "weights_dict = dict(cleaned_weights)\n",
    "\n",
    "# Create a figure and axis for the pie chart\n",
    "fig, ax = plt.subplots(figsize=(8, 8))\n",
    "\n",
    "# Create the pie chart\n",
    "ax.pie(weights_dict.values(), labels=weights_dict.keys())\n",
    "\n",
    "# Set the title of the chart\n",
    "ax.set_title('Portfolio Allocation Using Mean Variance Optimization')\n",
    "\n",
    "# Display the chart\n",
    "plt.show()"
   ]
  },
  {
   "cell_type": "markdown",
   "id": "fa4c77eb",
   "metadata": {},
   "source": [
    "#### Considering the investment amount as $100,000"
   ]
  },
  {
   "cell_type": "code",
   "execution_count": 212,
   "id": "068d6474",
   "metadata": {},
   "outputs": [
    {
     "name": "stdout",
     "output_type": "stream",
     "text": [
      "Discrete allocation: {'AAPL': 321, 'MRNA': 143, 'COST': 56, 'KR': 157}\n",
      "Funds remaining: $43.75\n"
     ]
    }
   ],
   "source": [
    "from pypfopt.discrete_allocation import DiscreteAllocation, get_latest_prices\n",
    "\n",
    "latest_prices = get_latest_prices(portfolio).dropna()\n",
    "latest_prices = pd.to_numeric(latest_prices, errors='coerce')\n",
    "latest_prices = latest_prices.iloc[1:]  # drop the first row\n",
    "# print(latest_prices)\n",
    "amount = 100000\n",
    "da = DiscreteAllocation(weights, latest_prices, total_portfolio_value=amount)\n",
    "\n",
    "allocation, leftover = da.greedy_portfolio()\n",
    "print(\"Discrete allocation:\", allocation)\n",
    "print(\"Funds remaining: ${:.2f}\".format(leftover))"
   ]
  },
  {
   "cell_type": "markdown",
   "id": "bdca59d6",
   "metadata": {},
   "source": [
    "## Conclusion For Mean Variance Optimization\n",
    "\n",
    "We see that our portfolio performs with an expected annual return of 43 percent. The Sharpe ratio value of 1.34 indicates that the portfolio optimization algorithm performs well with our current data. Of course, this return is inflated and is not likely to hold up in the future. \n",
    "\n",
    "Mean variance optimization doesn’t perform very well since it makes many simplifying assumptions, such as returns being normally distributed and the need for an invertible covariance matrix. Fortunately, methods like HRP and mCVAR address these limitations. "
   ]
  },
  {
   "cell_type": "markdown",
   "id": "bd9dcfac",
   "metadata": {},
   "source": [
    "# Hierarchical Risk Parity (HRP)"
   ]
  },
  {
   "cell_type": "code",
   "execution_count": 213,
   "id": "1c106c5f",
   "metadata": {},
   "outputs": [],
   "source": [
    "from pypfopt import HRPOpt"
   ]
  },
  {
   "cell_type": "code",
   "execution_count": 214,
   "id": "813e505a",
   "metadata": {},
   "outputs": [],
   "source": [
    "returns = portfolio[['MRNA', 'PFE', 'JNJ', 'GOOGL', 'META', 'APPL', 'COST', 'WMT', 'KR', 'JPM', 'BAC', 'HSBC']] = portfolio[['MRNA', 'PFE', 'JNJ', 'GOOGL', 'META', 'AAPL', 'COST', 'WMT', 'KR', 'JPM', 'BAC', 'HSBC']].pct_change().dropna()"
   ]
  },
  {
   "cell_type": "code",
   "execution_count": 216,
   "id": "cffd7a02",
   "metadata": {},
   "outputs": [],
   "source": [
    "hrp = HRPOpt(returns)\n",
    "hrp_weights = hrp.optimize()"
   ]
  },
  {
   "cell_type": "code",
   "execution_count": 217,
   "id": "77d3eada",
   "metadata": {},
   "outputs": [
    {
     "name": "stdout",
     "output_type": "stream",
     "text": [
      "{'AAPL': 0.07578508276058257, 'BAC': 0.061285362879451764, 'COST': 0.09043492065023764, 'GOOGL': 0.051059553492855965, 'HSBC': 0.059511423787638025, 'JNJ': 0.2146142053950624, 'JPM': 0.04755542704459071, 'KR': 0.11038355390831939, 'META': 0.026764887036446836, 'MRNA': 0.019619010874009676, 'PFE': 0.1420019409662181, 'WMT': 0.1009846312045869}\n",
      "-----------------------------------\n",
      "Expected annual return: 15.9%\n",
      "Annual volatility: 18.5%\n",
      "Sharpe Ratio: 0.75\n"
     ]
    },
    {
     "data": {
      "text/plain": [
       "(0.15888304757454455, 0.1846398191886778, 0.7521836198974188)"
      ]
     },
     "execution_count": 217,
     "metadata": {},
     "output_type": "execute_result"
    }
   ],
   "source": [
    "print(dict(hrp_weights))\n",
    "print(\"-----------------------------------\")\n",
    "hrp.portfolio_performance(verbose=True)"
   ]
  },
  {
   "cell_type": "code",
   "execution_count": 226,
   "id": "0619b1b7",
   "metadata": {},
   "outputs": [
    {
     "data": {
      "image/png": "[encoded data removed]",
      "text/plain": [
       "<Figure size 576x576 with 1 Axes>"
      ]
     },
     "metadata": {},
     "output_type": "display_data"
    }
   ],
   "source": [
    "# plotting.plot_weights(hrp_weights, title=\"Portfolio Allocation\")\n",
    "\n",
    "weights_dict = dict(hrp_weights)\n",
    "\n",
    "# Create a figure and axis for the pie chart\n",
    "fig, ax = plt.subplots(figsize=(8, 8))\n",
    "\n",
    "# Create the pie chart\n",
    "ax.pie(weights_dict.values(), labels=weights_dict.keys())\n",
    "\n",
    "# Set the title of the chart\n",
    "ax.set_title('Portfolio Allocation using Hierarchical Risk Parity (HRP)')\n",
    "\n",
    "# Display the chart\n",
    "plt.show()"
   ]
  },
  {
   "cell_type": "code",
   "execution_count": 219,
   "id": "ad6636a3",
   "metadata": {},
   "outputs": [
    {
     "name": "stdout",
     "output_type": "stream",
     "text": [
      "Discrete allocation (HRP): {'JNJ': 121, 'PFE': 277, 'KR': 247, 'WMT': 71, 'COST': 20, 'AAPL': 58, 'BAC': 185, 'HSBC': 191, 'GOOGL': 58, 'JPM': 36, 'META': 22, 'MRNA': 11}\n",
      "Funds remaining (HRP): $40.58\n"
     ]
    }
   ],
   "source": [
    "da_hrp = DiscreteAllocation(hrp_weights, latest_prices, total_portfolio_value=100000)\n",
    "\n",
    "allocation, leftover = da_hrp.greedy_portfolio()\n",
    "print(\"Discrete allocation (HRP):\", allocation)\n",
    "print(\"Funds remaining (HRP): ${:.2f}\".format(leftover))"
   ]
  },
  {
   "cell_type": "markdown",
   "id": "7f1d798d",
   "metadata": {},
   "source": [
    "# Conclusion Hierarchical Risk Parity (HRP)\n",
    "\n",
    "We see that we have an expected annual return of 15.9 percent, which is significantly less than the inflated 43.0 percent we achieved with mean variance optimization. We also see a diminished Sharpe ratio of 0.75.  This result is much more reasonable and more likely to hold up in the future since HRP is not as sensitive to outliers as mean variance optimization is. \n",
    "\n",
    "We see that our algorithm suggests we invest heavily into Kroger (KR), HSBC, Johnson & Johnson (JNJ) and Pfizer (PFE) and not, as the previous model did, so much into Moderna (MRNA) and Apple (AAPL). Further, while the performance decreased, we can be more confident that this model will perform just as well when we refresh our data. This is because HRP is more robust to the anomalous increase in Moderna and Apple stock prices."
   ]
  },
  {
   "cell_type": "markdown",
   "id": "4ead2898",
   "metadata": {},
   "source": [
    "# Mean Conditional Value at Risk (mCVAR)"
   ]
  },
  {
   "cell_type": "code",
   "execution_count": 220,
   "id": "6a6ee814",
   "metadata": {},
   "outputs": [],
   "source": [
    "from pypfopt.efficient_frontier import EfficientCVaR"
   ]
  },
  {
   "cell_type": "code",
   "execution_count": 221,
   "id": "48cc994b",
   "metadata": {},
   "outputs": [
    {
     "name": "stdout",
     "output_type": "stream",
     "text": [
      "{'MRNA': 0.0164112362579626, 'PFE': 0.0570599244725613, 'JNJ': 0.2818814967502368, 'GOOGL': 2.30506716e-08, 'META': 2.22640728e-08, 'AAPL': 0.0851246432923121, 'COST': 3.86006137e-08, 'WMT': 0.1922373482936009, 'KR': 0.1432909752939262, 'JPM': 4.07974923e-08, 'BAC': 0.2239942403932198, 'HSBC': 1.05333297e-08}\n",
      "-----------------------------------\n",
      "Expected annual return: 12.7%\n",
      "Conditional Value at Risk: -0.01%\n"
     ]
    },
    {
     "data": {
      "text/plain": [
       "(0.12695234386727605, -0.00012160499953229924)"
      ]
     },
     "execution_count": 221,
     "metadata": {},
     "output_type": "execute_result"
    }
   ],
   "source": [
    "S = portfolio[['MRNA', 'PFE', 'JNJ', 'GOOGL', 'META', 'APPL', 'COST', 'WMT', 'KR', 'JPM', 'BAC', 'HSBC']].cov()\n",
    "ef_cvar = EfficientCVaR(mu, S)\n",
    "cvar_weights = ef_cvar.min_cvar()\n",
    "\n",
    "cleaned_weights = ef_cvar.clean_weights()\n",
    "print(dict(cvar_weights))\n",
    "print(\"-----------------------------------\")\n",
    "ef_cvar.portfolio_performance(verbose=True)"
   ]
  },
  {
   "cell_type": "code",
   "execution_count": 227,
   "id": "77a6a0c9",
   "metadata": {},
   "outputs": [
    {
     "data": {
      "image/png": "[encoded data removed]",
      "text/plain": [
       "<Figure size 576x576 with 1 Axes>"
      ]
     },
     "metadata": {},
     "output_type": "display_data"
    }
   ],
   "source": [
    "# plotting.plot_weights(cleaned_weights, title=\"Portfolio Allocation\")\n",
    "\n",
    "weights_dict = dict(cleaned_weights)\n",
    "\n",
    "# Create a figure and axis for the pie chart\n",
    "fig, ax = plt.subplots(figsize=(8, 8))\n",
    "\n",
    "# Create the pie chart\n",
    "ax.pie(weights_dict.values(), labels=weights_dict.keys())\n",
    "\n",
    "# Set the title of the chart\n",
    "ax.set_title('Portfolio Allocation using Mean Conditional Value at Risk (mCVAR)')\n",
    "\n",
    "# Display the chart\n",
    "plt.show()"
   ]
  },
  {
   "cell_type": "code",
   "execution_count": 224,
   "id": "6984b40f",
   "metadata": {},
   "outputs": [
    {
     "name": "stdout",
     "output_type": "stream",
     "text": [
      "Discrete allocation (CVAR): {'JNJ': 160, 'BAC': 676, 'WMT': 135, 'KR': 321, 'AAPL': 66, 'PFE': 111, 'MRNA': 9}\n",
      "Funds remaining (CVAR): $15.45\n"
     ]
    }
   ],
   "source": [
    "da_cvar = DiscreteAllocation(cvar_weights, latest_prices, total_portfolio_value=100000)\n",
    "\n",
    "allocation, leftover = da_cvar.greedy_portfolio()\n",
    "print(\"Discrete allocation (CVAR):\", allocation)\n",
    "print(\"Funds remaining (CVAR): ${:.2f}\".format(leftover))"
   ]
  },
  {
   "cell_type": "markdown",
   "id": "3f1703af",
   "metadata": {},
   "source": [
    "# Conclusion Mean Conditional Value at Risk (mCVAR)\n",
    "\n",
    "We see that this algorithm suggests we invest heavily into Johnson & Johnson (JNJ) and Bank of America (BAC). Also it suggests to buy a single share of HSBC. Also we see that the expected return is 12.7 percent.As with HRP, this result is much more reasonable than the inflated 43 percent returns given by mean variance optimization since it is not as sensitive to the anomalous behaviour of the Moderna stock price. "
   ]
  }
 ],
 "metadata": {
  "kernelspec": {
   "display_name": "Python 3 (ipykernel)",
   "language": "python",
   "name": "python3"
  },
  "language_info": {
   "codemirror_mode": {
    "name": "ipython",
    "version": 3
   },
   "file_extension": ".py",
   "mimetype": "text/x-python",
   "name": "python",
   "nbconvert_exporter": "python",
   "pygments_lexer": "ipython3",
   "version": "3.8.8"
  }
 },
 "nbformat": 4,
 "nbformat_minor": 5
}
